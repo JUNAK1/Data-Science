{
  "nbformat": 4,
  "nbformat_minor": 0,
  "metadata": {
    "colab": {
      "provenance": [],
      "toc_visible": true
    },
    "kernelspec": {
      "name": "python3",
      "display_name": "Python 3"
    },
    "language_info": {
      "name": "python"
    }
  },
  "cells": [
    {
      "cell_type": "markdown",
      "source": [
        "#Juan Camilo Serrano Correa\n",
        "##Taller 1"
      ],
      "metadata": {
        "id": "TDnGJWxynpz3"
      }
    },
    {
      "cell_type": "code",
      "source": [
        "import numpy as np"
      ],
      "metadata": {
        "id": "rEaqg6wWnxm3"
      },
      "execution_count": 1,
      "outputs": []
    },
    {
      "cell_type": "markdown",
      "source": [
        "1. Dadas las 2 matrices numpy dimensionales similares, ¿cómo obtener una salida de\n",
        "matriz numpy en la que cada elemento es una suma de elementos de las 2 matrices\n",
        "numpy?"
      ],
      "metadata": {
        "id": "7UWiPiAHn2Zd"
      }
    },
    {
      "cell_type": "code",
      "execution_count": 6,
      "metadata": {
        "colab": {
          "base_uri": "https://localhost:8080/"
        },
        "id": "Ib1FCbgvnnm4",
        "outputId": "b24d4115-dda4-4d31-b93f-2d90c6e7c6ef"
      },
      "outputs": [
        {
          "output_type": "stream",
          "name": "stdout",
          "text": [
            "[[21 23 25]\n",
            " [27 29 31]]\n"
          ]
        }
      ],
      "source": [
        "a = np.array([[1,2,3],[4,5,6]])\n",
        "b = np.array([[20,21,22],[23,24,25]])\n",
        "c1 = a+b\n",
        "print(c1)"
      ]
    },
    {
      "cell_type": "markdown",
      "source": [
        "2. Dada una matriz numpy (matriz), ¿cómo obtener una salida de matriz numpy que\n",
        "sea igual a la matriz original multiplicada por un escalar (2)?"
      ],
      "metadata": {
        "id": "_kSd0iRDohyC"
      }
    },
    {
      "cell_type": "code",
      "source": [
        "c2= b*2\n",
        "print(c2)"
      ],
      "metadata": {
        "colab": {
          "base_uri": "https://localhost:8080/"
        },
        "id": "TEIeOVhxoiuq",
        "outputId": "5be52b9b-0df3-4131-cc61-7720ec243ebb"
      },
      "execution_count": 8,
      "outputs": [
        {
          "output_type": "stream",
          "name": "stdout",
          "text": [
            "[[40 42 44]\n",
            " [46 48 50]]\n"
          ]
        }
      ]
    },
    {
      "cell_type": "markdown",
      "source": [
        "3. Cree una matriz de identidad de dimensión 4 por 4"
      ],
      "metadata": {
        "id": "s65ipffzowxL"
      }
    },
    {
      "cell_type": "code",
      "source": [
        "c3 =np.identity(4)\n",
        "print(c3)"
      ],
      "metadata": {
        "colab": {
          "base_uri": "https://localhost:8080/"
        },
        "id": "vHz0H5dDoxw9",
        "outputId": "87204477-9e4b-4717-b534-14cedfc833b1"
      },
      "execution_count": 10,
      "outputs": [
        {
          "output_type": "stream",
          "name": "stdout",
          "text": [
            "[[1. 0. 0. 0.]\n",
            " [0. 1. 0. 0.]\n",
            " [0. 0. 1. 0.]\n",
            " [0. 0. 0. 1.]]\n"
          ]
        }
      ]
    },
    {
      "cell_type": "markdown",
      "source": [
        "4. Convierta una matriz 1-D en una matriz 3-D"
      ],
      "metadata": {
        "id": "KDIO20Pvo8bL"
      }
    },
    {
      "cell_type": "code",
      "source": [
        "R = np.arange(1,28)\n",
        "print(R)\n",
        "c4 = R.reshape(3,3,3)\n",
        "print(c4)"
      ],
      "metadata": {
        "colab": {
          "base_uri": "https://localhost:8080/"
        },
        "id": "TZTUu4o9o9Sg",
        "outputId": "abbe75e8-5673-4313-8b9e-c14d104a3475"
      },
      "execution_count": 17,
      "outputs": [
        {
          "output_type": "stream",
          "name": "stdout",
          "text": [
            "[ 1  2  3  4  5  6  7  8  9 10 11 12 13 14 15 16 17 18 19 20 21 22 23 24\n",
            " 25 26 27]\n",
            "[[[ 1  2  3]\n",
            "  [ 4  5  6]\n",
            "  [ 7  8  9]]\n",
            "\n",
            " [[10 11 12]\n",
            "  [13 14 15]\n",
            "  [16 17 18]]\n",
            "\n",
            " [[19 20 21]\n",
            "  [22 23 24]\n",
            "  [25 26 27]]]\n"
          ]
        }
      ]
    },
    {
      "cell_type": "markdown",
      "source": [
        "5. Crear una matriz de 10x10 con unos (1) en los bordes y ceros (0) en el interior (con\n",
        "rangos de índices)"
      ],
      "metadata": {
        "id": "z8Mxk-UVpv9d"
      }
    },
    {
      "cell_type": "code",
      "source": [
        "ceros = np.zeros((10,10))\n",
        "print(ceros)\n",
        "\n",
        "ceros[:1,:]=1\n",
        "print(ceros)\n",
        "ceros[-1:,:]=1\n",
        "print(ceros)\n",
        "ceros[:,:1]=1\n",
        "print(ceros)\n",
        "ceros[:,-1:]=1\n",
        "print(ceros)"
      ],
      "metadata": {
        "colab": {
          "base_uri": "https://localhost:8080/"
        },
        "id": "W_WcM213pw0b",
        "outputId": "1398cb1a-8b43-4cf0-f729-804bb8b0b102"
      },
      "execution_count": 61,
      "outputs": [
        {
          "output_type": "stream",
          "name": "stdout",
          "text": [
            "[[0. 0. 0. 0. 0. 0. 0. 0. 0. 0.]\n",
            " [0. 0. 0. 0. 0. 0. 0. 0. 0. 0.]\n",
            " [0. 0. 0. 0. 0. 0. 0. 0. 0. 0.]\n",
            " [0. 0. 0. 0. 0. 0. 0. 0. 0. 0.]\n",
            " [0. 0. 0. 0. 0. 0. 0. 0. 0. 0.]\n",
            " [0. 0. 0. 0. 0. 0. 0. 0. 0. 0.]\n",
            " [0. 0. 0. 0. 0. 0. 0. 0. 0. 0.]\n",
            " [0. 0. 0. 0. 0. 0. 0. 0. 0. 0.]\n",
            " [0. 0. 0. 0. 0. 0. 0. 0. 0. 0.]\n",
            " [0. 0. 0. 0. 0. 0. 0. 0. 0. 0.]]\n",
            "[[1. 1. 1. 1. 1. 1. 1. 1. 1. 1.]\n",
            " [0. 0. 0. 0. 0. 0. 0. 0. 0. 0.]\n",
            " [0. 0. 0. 0. 0. 0. 0. 0. 0. 0.]\n",
            " [0. 0. 0. 0. 0. 0. 0. 0. 0. 0.]\n",
            " [0. 0. 0. 0. 0. 0. 0. 0. 0. 0.]\n",
            " [0. 0. 0. 0. 0. 0. 0. 0. 0. 0.]\n",
            " [0. 0. 0. 0. 0. 0. 0. 0. 0. 0.]\n",
            " [0. 0. 0. 0. 0. 0. 0. 0. 0. 0.]\n",
            " [0. 0. 0. 0. 0. 0. 0. 0. 0. 0.]\n",
            " [0. 0. 0. 0. 0. 0. 0. 0. 0. 0.]]\n",
            "[[1. 1. 1. 1. 1. 1. 1. 1. 1. 1.]\n",
            " [0. 0. 0. 0. 0. 0. 0. 0. 0. 0.]\n",
            " [0. 0. 0. 0. 0. 0. 0. 0. 0. 0.]\n",
            " [0. 0. 0. 0. 0. 0. 0. 0. 0. 0.]\n",
            " [0. 0. 0. 0. 0. 0. 0. 0. 0. 0.]\n",
            " [0. 0. 0. 0. 0. 0. 0. 0. 0. 0.]\n",
            " [0. 0. 0. 0. 0. 0. 0. 0. 0. 0.]\n",
            " [0. 0. 0. 0. 0. 0. 0. 0. 0. 0.]\n",
            " [0. 0. 0. 0. 0. 0. 0. 0. 0. 0.]\n",
            " [1. 1. 1. 1. 1. 1. 1. 1. 1. 1.]]\n",
            "[[1. 1. 1. 1. 1. 1. 1. 1. 1. 1.]\n",
            " [1. 0. 0. 0. 0. 0. 0. 0. 0. 0.]\n",
            " [1. 0. 0. 0. 0. 0. 0. 0. 0. 0.]\n",
            " [1. 0. 0. 0. 0. 0. 0. 0. 0. 0.]\n",
            " [1. 0. 0. 0. 0. 0. 0. 0. 0. 0.]\n",
            " [1. 0. 0. 0. 0. 0. 0. 0. 0. 0.]\n",
            " [1. 0. 0. 0. 0. 0. 0. 0. 0. 0.]\n",
            " [1. 0. 0. 0. 0. 0. 0. 0. 0. 0.]\n",
            " [1. 0. 0. 0. 0. 0. 0. 0. 0. 0.]\n",
            " [1. 1. 1. 1. 1. 1. 1. 1. 1. 1.]]\n",
            "[[1. 1. 1. 1. 1. 1. 1. 1. 1. 1.]\n",
            " [1. 0. 0. 0. 0. 0. 0. 0. 0. 1.]\n",
            " [1. 0. 0. 0. 0. 0. 0. 0. 0. 1.]\n",
            " [1. 0. 0. 0. 0. 0. 0. 0. 0. 1.]\n",
            " [1. 0. 0. 0. 0. 0. 0. 0. 0. 1.]\n",
            " [1. 0. 0. 0. 0. 0. 0. 0. 0. 1.]\n",
            " [1. 0. 0. 0. 0. 0. 0. 0. 0. 1.]\n",
            " [1. 0. 0. 0. 0. 0. 0. 0. 0. 1.]\n",
            " [1. 0. 0. 0. 0. 0. 0. 0. 0. 1.]\n",
            " [1. 1. 1. 1. 1. 1. 1. 1. 1. 1.]]\n"
          ]
        }
      ]
    },
    {
      "cell_type": "markdown",
      "source": [
        "6. Generación de secuencias personalizadas: Genere una secuencia de números en\n",
        "forma de matriz numpy de 0 a 100 con espacios de 2 números, por ejemplo: 0, 2, 4"
      ],
      "metadata": {
        "id": "-c5EZqhErfkj"
      }
    },
    {
      "cell_type": "code",
      "source": [
        "c6 = np.arange(0,101,2)\n",
        "print(c6)"
      ],
      "metadata": {
        "colab": {
          "base_uri": "https://localhost:8080/"
        },
        "id": "sapfK68SrgY5",
        "outputId": "ef0f3fd1-c26b-4e0e-b95b-0b25d702762a"
      },
      "execution_count": 32,
      "outputs": [
        {
          "output_type": "stream",
          "name": "stdout",
          "text": [
            "[  0   2   4   6   8  10  12  14  16  18  20  22  24  26  28  30  32  34\n",
            "  36  38  40  42  44  46  48  50  52  54  56  58  60  62  64  66  68  70\n",
            "  72  74  76  78  80  82  84  86  88  90  92  94  96  98 100]\n"
          ]
        }
      ]
    },
    {
      "cell_type": "markdown",
      "source": [
        "7. Obtener las posiciones (índices) donde coinciden los elementos de 2 matrices\n",
        "numpy: De 2 matrices numpy, extraiga los índices en los que coinciden los elementos\n",
        "de las 2 matrices"
      ],
      "metadata": {
        "id": "rO7L5mGbrx2R"
      }
    },
    {
      "cell_type": "code",
      "source": [
        "a7= np.array([1,2,3,4,5])\n",
        "b7= np.array([1,3,5,4,5])\n",
        "\n",
        "c7 = np.where((a7 == b7))\n",
        "print(c7)"
      ],
      "metadata": {
        "colab": {
          "base_uri": "https://localhost:8080/"
        },
        "id": "74UD2yTbrywV",
        "outputId": "1bb1c1f1-7d56-4a94-cf43-dcd793ecb9fd"
      },
      "execution_count": 69,
      "outputs": [
        {
          "output_type": "stream",
          "name": "stdout",
          "text": [
            "(array([0, 3, 4]),)\n"
          ]
        }
      ]
    },
    {
      "cell_type": "markdown",
      "source": [
        "8. Seno de un ángulo (en radianes): Calcule el seno de una matriz de ángulos (en\n",
        "radianes) usando NumPy"
      ],
      "metadata": {
        "id": "4_D_L3Cmzhht"
      }
    },
    {
      "cell_type": "code",
      "source": [
        "a8= np.array([3.14, 3.14/2, 6.28])\n",
        "c8 = np.sin(a8)\n",
        "print(c8)"
      ],
      "metadata": {
        "colab": {
          "base_uri": "https://localhost:8080/"
        },
        "id": "4vFxLRDaziOF",
        "outputId": "6465874d-5b4f-444a-cebd-6284c9327fc6"
      },
      "execution_count": 51,
      "outputs": [
        {
          "output_type": "stream",
          "name": "stdout",
          "text": [
            "[ 0.00159265  0.99999968 -0.0031853 ]\n"
          ]
        }
      ]
    },
    {
      "cell_type": "markdown",
      "source": [
        "9. Extraiga la especie de la columna de texto del iris 1D."
      ],
      "metadata": {
        "id": "d4NrF_-k0jN8"
      }
    },
    {
      "cell_type": "code",
      "source": [
        "url = 'https://archive.ics.uci.edu/ml/machine-learning-databases/iris/iris.data'\n",
        "iris_1d = np.genfromtxt(url, delimiter=',', dtype=None)\n",
        "#print(iris_1d[:5])\n",
        "\n",
        "\n",
        "species = np.array([row[4] for row in iris_1d])\n",
        "species[:5]"
      ],
      "metadata": {
        "colab": {
          "base_uri": "https://localhost:8080/"
        },
        "id": "V1w0j-RC0oL9",
        "outputId": "6c59f1b0-9ceb-400f-e2ac-57655c9b90ef"
      },
      "execution_count": 68,
      "outputs": [
        {
          "output_type": "stream",
          "name": "stderr",
          "text": [
            "<ipython-input-68-80b62590c9b3>:2: VisibleDeprecationWarning: Reading unicode strings without specifying the encoding argument is deprecated. Set the encoding, use None for the system default.\n",
            "  iris_1d = np.genfromtxt(url, delimiter=',', dtype=None)\n"
          ]
        },
        {
          "output_type": "execute_result",
          "data": {
            "text/plain": [
              "array([b'Iris-setosa', b'Iris-setosa', b'Iris-setosa', b'Iris-setosa',\n",
              "       b'Iris-setosa'], dtype='|S15')"
            ]
          },
          "metadata": {},
          "execution_count": 68
        }
      ]
    },
    {
      "cell_type": "markdown",
      "source": [
        "10. Convierta el iris 1D en una matriz 2D iris_2d omitiendo el campo de texto de la\n",
        "especie."
      ],
      "metadata": {
        "id": "CAeh88ga3pwt"
      }
    },
    {
      "cell_type": "code",
      "source": [
        "iris_2d = np.array([row.tolist()[:4] for row in iris_1d])\n",
        "iris_2d[:4]"
      ],
      "metadata": {
        "colab": {
          "base_uri": "https://localhost:8080/"
        },
        "id": "TO_zOWIy3qmB",
        "outputId": "d66c3ba1-02d2-447c-bb2a-620882640914"
      },
      "execution_count": 71,
      "outputs": [
        {
          "output_type": "execute_result",
          "data": {
            "text/plain": [
              "array([[5.1, 3.5, 1.4, 0.2],\n",
              "       [4.9, 3. , 1.4, 0.2],\n",
              "       [4.7, 3.2, 1.3, 0.2],\n",
              "       [4.6, 3.1, 1.5, 0.2]])"
            ]
          },
          "metadata": {},
          "execution_count": 71
        }
      ]
    },
    {
      "cell_type": "code",
      "source": [
        "iris_2d = np.genfromtxt(url, delimiter=',', dtype=float, usecols=[0,1,2,3])\n",
        "iris_2d[:4]"
      ],
      "metadata": {
        "colab": {
          "base_uri": "https://localhost:8080/"
        },
        "id": "RFgBjZy_35Ye",
        "outputId": "1d2c6ce9-ce72-464c-d466-b80bbe0fa41f"
      },
      "execution_count": 72,
      "outputs": [
        {
          "output_type": "execute_result",
          "data": {
            "text/plain": [
              "array([[5.1, 3.5, 1.4, 0.2],\n",
              "       [4.9, 3. , 1.4, 0.2],\n",
              "       [4.7, 3.2, 1.3, 0.2],\n",
              "       [4.6, 3.1, 1.5, 0.2]])"
            ]
          },
          "metadata": {},
          "execution_count": 72
        }
      ]
    }
  ]
}